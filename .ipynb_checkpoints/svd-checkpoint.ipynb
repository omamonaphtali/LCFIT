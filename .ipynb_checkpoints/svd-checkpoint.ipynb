{
 "cells": [
  {
   "cell_type": "code",
   "execution_count": 1,
   "metadata": {},
   "outputs": [],
   "source": [
    "import pandas as pd # for dataframe manipulation\n",
    "import numpy as np\n",
    "import matplotlib.pyplot as plt # for plotting\n",
    "\n",
    "from numpy import *"
   ]
  },
  {
   "cell_type": "markdown",
   "metadata": {},
   "source": [
    "Load the data file for the 5-year Swedish death rates for the time period 1751 to 2017"
   ]
  },
  {
   "cell_type": "code",
   "execution_count": 26,
   "metadata": {},
   "outputs": [],
   "source": [
    "# Insert the Total columns as a series\n",
    "total = pd.read_csv('datasets/Swed_Mx_1x5.csv', sep=' ', header=0,\n",
    "                   dtype={'Male':np.float64, 'Female':np.float64, 'Total':np.float64},\n",
    "                   skip_blank_lines=True, infer_datetime_format=True, na_values='.')['Total']\n",
    "# Convert the NaN's to 0 as they were initially supposed to be 0\n",
    "# data.fillna(value=0)\n",
    "total.head() # Reasonableness check\n",
    "\n",
    "# write the cleaned data to a .txt file\n",
    "total.to_csv('datasets/clean_data.csv', sep=',', encoding='utf-8')"
   ]
  },
  {
   "cell_type": "code",
   "execution_count": 35,
   "metadata": {},
   "outputs": [],
   "source": [
    "# Convert the series into a matrix with 54 rows and 111 columns\n",
    "# data = np.reshape(total, newshape=(54,111))\n",
    "data = total.values.reshape(54,111)"
   ]
  },
  {
   "cell_type": "code",
   "execution_count": 61,
   "metadata": {},
   "outputs": [
    {
     "data": {
      "text/plain": [
       "(90, 54)"
      ]
     },
     "execution_count": 61,
     "metadata": {},
     "output_type": "execute_result"
    }
   ],
   "source": [
    "# Transpose the matrix so that the ages are on the main axis and the years on the columns\n",
    "data1 = data.transpose()\n",
    "# Transform the resultant array into a Pandas dataframe\n",
    "data_df = pd.DataFrame(data1)\n",
    "\n",
    "# Drop all ages beyond age 90\n",
    "data_df = data_df[0:90]\n",
    "data_df.shape"
   ]
  },
  {
   "cell_type": "markdown",
   "metadata": {},
   "source": [
    "Estimate the value of a(x)"
   ]
  },
  {
   "cell_type": "code",
   "execution_count": 90,
   "metadata": {},
   "outputs": [],
   "source": [
    "# Get the logarithm of the dataframe\n",
    "data_log = np.log(data_df)\n",
    "\n",
    "# Sum the logs across all the columns\n",
    "data_sum = data_log.sum(axis = 1)\n",
    "\n",
    "# Determine the estimated value of a, aHat\n",
    "aHat = data_sum / len(data_df.columns)"
   ]
  },
  {
   "cell_type": "markdown",
   "metadata": {},
   "source": [
    "# Singular Value Decomposition"
   ]
  },
  {
   "cell_type": "markdown",
   "metadata": {},
   "source": [
    "Estimate the value of b(x) and k(t) by using Singular Value Decomposistion (SVD)"
   ]
  },
  {
   "cell_type": "code",
   "execution_count": 108,
   "metadata": {},
   "outputs": [],
   "source": [
    "A_df = data_log - aHat\n",
    "\n",
    "A_df.dropna(axis=1, inplace=True)\n",
    "\n",
    "from scipy import linalg\n",
    "u, d, vh = linalg.svd(A_df, full_matrices=True)\n",
    "v = vh.transpose()\n",
    "\n",
    "# To estimate parameters b(x) and k(t) , Lee-Carter Model use only rank r = 1\n",
    "# estimation value of b(x) could be obtained as the result in the first column of matrix u\n",
    "bHat = u[0]\n",
    "\n",
    "# Meanwhile, the estimation value of k(t) could be achieved by the multiplication of first singular value and \n",
    "# first column of matrix V\n",
    "kHat = d[0] * v[0]"
   ]
  },
  {
   "cell_type": "markdown",
   "metadata": {},
   "source": [
    "From the estimate values above, mortality rate will be estimated by using Equation 1"
   ]
  },
  {
   "cell_type": "code",
   "execution_count": null,
   "metadata": {},
   "outputs": [],
   "source": []
  },
  {
   "cell_type": "code",
   "execution_count": null,
   "metadata": {},
   "outputs": [],
   "source": []
  }
 ],
 "metadata": {
  "kernelspec": {
   "display_name": "Python 3",
   "language": "python",
   "name": "python3"
  },
  "language_info": {
   "codemirror_mode": {
    "name": "ipython",
    "version": 3
   },
   "file_extension": ".py",
   "mimetype": "text/x-python",
   "name": "python",
   "nbconvert_exporter": "python",
   "pygments_lexer": "ipython3",
   "version": "3.7.1"
  }
 },
 "nbformat": 4,
 "nbformat_minor": 2
}
