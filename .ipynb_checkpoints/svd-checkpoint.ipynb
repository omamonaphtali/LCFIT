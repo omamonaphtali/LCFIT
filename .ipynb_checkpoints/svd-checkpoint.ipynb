{
 "cells": [
  {
   "cell_type": "code",
   "execution_count": 132,
   "metadata": {},
   "outputs": [],
   "source": [
    "import pandas as pd # for dataframe manipulation\n",
    "import numpy as np\n",
    "import matplotlib.pyplot as plt # for plotting\n",
    "\n",
    "from numpy import *"
   ]
  },
  {
   "cell_type": "markdown",
   "metadata": {},
   "source": [
    "Load the data file for the 5-year Swedish death rates for the time period 1751 to 2017"
   ]
  },
  {
   "cell_type": "code",
   "execution_count": 3,
   "metadata": {},
   "outputs": [],
   "source": [
    "data = pd.read_csv('datasets/Swed_Mx_1x5.csv', sep=' ', header=0,\n",
    "                   dtype={'Male':np.float64, 'Female':np.float64, 'Total':np.float64},\n",
    "                   skip_blank_lines=True, infer_datetime_format=True, na_values='.')\n",
    "# Convert the NaN's to 0 as they were initially supposed to be 0\n",
    "# data.fillna(value=0)\n",
    "data.head() # Reasonableness check\n",
    "\n",
    "# write the cleaned data to a .txt file\n",
    "data.to_csv('datasets/clean_data.csv', sep=',', encoding='utf-8')"
   ]
  },
  {
   "cell_type": "code",
   "execution_count": 4,
   "metadata": {},
   "outputs": [
    {
     "name": "stdout",
     "output_type": "stream",
     "text": [
      "<class 'pandas.core.frame.DataFrame'>\n",
      "RangeIndex: 5994 entries, 0 to 5993\n",
      "Data columns (total 5 columns):\n",
      "Year      5994 non-null object\n",
      "Age       5994 non-null int64\n",
      "Female    5763 non-null float64\n",
      "Male      5657 non-null float64\n",
      "Total     5769 non-null float64\n",
      "dtypes: float64(3), int64(1), object(1)\n",
      "memory usage: 234.2+ KB\n"
     ]
    }
   ],
   "source": [
    "data.info()"
   ]
  },
  {
   "cell_type": "markdown",
   "metadata": {},
   "source": [
    "Visualize the trend of the data"
   ]
  },
  {
   "cell_type": "code",
   "execution_count": 32,
   "metadata": {},
   "outputs": [
    {
     "data": {
      "text/plain": [
       "[<matplotlib.lines.Line2D at 0x7f052d6fbb70>]"
      ]
     },
     "execution_count": 32,
     "metadata": {},
     "output_type": "execute_result"
    },
    {
     "data": {
      "image/png": "[encoded data removed]",
      "text/plain": [
       "<Figure size 432x288 with 1 Axes>"
      ]
     },
     "metadata": {
      "needs_background": "light"
     },
     "output_type": "display_data"
    }
   ],
   "source": [
    "plt.plot(data.Year, data.Male)"
   ]
  },
  {
   "cell_type": "markdown",
   "metadata": {},
   "source": [
    "# Singular Value Decomposition"
   ]
  },
  {
   "cell_type": "code",
   "execution_count": 13,
   "metadata": {
    "scrolled": true
   },
   "outputs": [
    {
     "data": {
      "text/plain": [
       "-3.884667209918491"
      ]
     },
     "execution_count": 13,
     "metadata": {},
     "output_type": "execute_result"
    }
   ],
   "source": [
    "M = data.iloc[:,2:5]\n",
    "M = M.dropna(axis=0)\n",
    "M = M[M.Female != 0]\n",
    "M = M[M.Male != 0]\n",
    "M = M[M.Total != 0]\n",
    "\n",
    "M['log_Female'] = np.log(M['Female'])\n",
    "M['log_Male'] = np.log(M['Male'])\n",
    "M['log_Total'] = np.log(M['Total'])\n",
    "M_sum = M.sum(axis=0)\n",
    "\n",
    "MTotalLog = M['log_Total']\n",
    "MTotalLogSum = M_sum['log_Total']\n",
    "T = len(M.Total)\n",
    "aHat = (1/T) * MTotalLogSum\n",
    "aHat"
   ]
  },
  {
   "cell_type": "markdown",
   "metadata": {},
   "source": [
    "Create a matrix Z x , t for estimating b x and k t , where Z x , t = ln ( m x , t ) − a x = b x k t"
   ]
  },
  {
   "cell_type": "code",
   "execution_count": 110,
   "metadata": {},
   "outputs": [
    {
     "data": {
      "text/plain": [
       "54"
      ]
     },
     "execution_count": 110,
     "metadata": {},
     "output_type": "execute_result"
    }
   ],
   "source": [
    "i = 0\n",
    "years_index = []\n",
    "while i <5994:\n",
    "    if i%111 == 0:\n",
    "        years_index.append(i)\n",
    "        i += 1\n",
    "    else:\n",
    "        i += 1\n",
    "len(years_index)"
   ]
  },
  {
   "cell_type": "code",
   "execution_count": 111,
   "metadata": {},
   "outputs": [],
   "source": [
    "years = data['Year'][years_index]"
   ]
  },
  {
   "cell_type": "code",
   "execution_count": 142,
   "metadata": {},
   "outputs": [
    {
     "name": "stderr",
     "output_type": "stream",
     "text": [
      "/home/jared/anaconda3/lib/python3.7/site-packages/ipykernel_launcher.py:1: RuntimeWarning: divide by zero encountered in log\n",
      "  \"\"\"Entry point for launching an IPython kernel.\n"
     ]
    }
   ],
   "source": [
    "source = np.log(data.loc[:,'Total'].values) - aHat\n",
    "total = source.reshape(54,111)\n",
    "total[np.isnan(total)] = 0\n",
    "total = total.transpose()"
   ]
  },
  {
   "cell_type": "code",
   "execution_count": 143,
   "metadata": {},
   "outputs": [
    {
     "data": {
      "text/html": [
       "<div>\n",
       "<style scoped>\n",
       "    .dataframe tbody tr th:only-of-type {\n",
       "        vertical-align: middle;\n",
       "    }\n",
       "\n",
       "    .dataframe tbody tr th {\n",
       "        vertical-align: top;\n",
       "    }\n",
       "\n",
       "    .dataframe thead th {\n",
       "        text-align: right;\n",
       "    }\n",
       "</style>\n",
       "<table border=\"1\" class=\"dataframe\">\n",
       "  <thead>\n",
       "    <tr style=\"text-align: right;\">\n",
       "      <th></th>\n",
       "      <th>0</th>\n",
       "      <th>1</th>\n",
       "      <th>2</th>\n",
       "      <th>3</th>\n",
       "      <th>4</th>\n",
       "      <th>5</th>\n",
       "      <th>6</th>\n",
       "      <th>7</th>\n",
       "      <th>8</th>\n",
       "      <th>9</th>\n",
       "      <th>...</th>\n",
       "      <th>44</th>\n",
       "      <th>45</th>\n",
       "      <th>46</th>\n",
       "      <th>47</th>\n",
       "      <th>48</th>\n",
       "      <th>49</th>\n",
       "      <th>50</th>\n",
       "      <th>51</th>\n",
       "      <th>52</th>\n",
       "      <th>53</th>\n",
       "    </tr>\n",
       "  </thead>\n",
       "  <tbody>\n",
       "    <tr>\n",
       "      <th>85</th>\n",
       "      <td>2.138848</td>\n",
       "      <td>2.289073</td>\n",
       "      <td>2.305419</td>\n",
       "      <td>2.380080</td>\n",
       "      <td>2.535144</td>\n",
       "      <td>2.344447</td>\n",
       "      <td>2.418758</td>\n",
       "      <td>2.461829</td>\n",
       "      <td>2.474252</td>\n",
       "      <td>2.457755</td>\n",
       "      <td>...</td>\n",
       "      <td>1.968235</td>\n",
       "      <td>1.921984</td>\n",
       "      <td>1.872204</td>\n",
       "      <td>1.807926</td>\n",
       "      <td>1.717478</td>\n",
       "      <td>1.679363</td>\n",
       "      <td>1.618086</td>\n",
       "      <td>1.538966</td>\n",
       "      <td>1.466559</td>\n",
       "      <td>1.427380</td>\n",
       "    </tr>\n",
       "    <tr>\n",
       "      <th>86</th>\n",
       "      <td>2.153632</td>\n",
       "      <td>2.323634</td>\n",
       "      <td>2.304278</td>\n",
       "      <td>2.381178</td>\n",
       "      <td>2.537928</td>\n",
       "      <td>2.427053</td>\n",
       "      <td>2.449624</td>\n",
       "      <td>2.500391</td>\n",
       "      <td>2.516939</td>\n",
       "      <td>2.493280</td>\n",
       "      <td>...</td>\n",
       "      <td>2.062259</td>\n",
       "      <td>2.019188</td>\n",
       "      <td>1.929833</td>\n",
       "      <td>1.904013</td>\n",
       "      <td>1.841743</td>\n",
       "      <td>1.790786</td>\n",
       "      <td>1.755287</td>\n",
       "      <td>1.667672</td>\n",
       "      <td>1.592310</td>\n",
       "      <td>1.551705</td>\n",
       "    </tr>\n",
       "    <tr>\n",
       "      <th>87</th>\n",
       "      <td>2.168763</td>\n",
       "      <td>2.360030</td>\n",
       "      <td>2.296731</td>\n",
       "      <td>2.382738</td>\n",
       "      <td>2.534871</td>\n",
       "      <td>2.509685</td>\n",
       "      <td>2.466928</td>\n",
       "      <td>2.555252</td>\n",
       "      <td>2.546244</td>\n",
       "      <td>2.530321</td>\n",
       "      <td>...</td>\n",
       "      <td>2.137959</td>\n",
       "      <td>2.125342</td>\n",
       "      <td>2.036090</td>\n",
       "      <td>2.006061</td>\n",
       "      <td>1.939757</td>\n",
       "      <td>1.894430</td>\n",
       "      <td>1.860925</td>\n",
       "      <td>1.795628</td>\n",
       "      <td>1.731295</td>\n",
       "      <td>1.679045</td>\n",
       "    </tr>\n",
       "    <tr>\n",
       "      <th>88</th>\n",
       "      <td>2.190194</td>\n",
       "      <td>2.405832</td>\n",
       "      <td>2.291354</td>\n",
       "      <td>2.394052</td>\n",
       "      <td>2.532024</td>\n",
       "      <td>2.598403</td>\n",
       "      <td>2.474158</td>\n",
       "      <td>2.636049</td>\n",
       "      <td>2.565568</td>\n",
       "      <td>2.583596</td>\n",
       "      <td>...</td>\n",
       "      <td>2.232640</td>\n",
       "      <td>2.215182</td>\n",
       "      <td>2.145081</td>\n",
       "      <td>2.117077</td>\n",
       "      <td>2.054308</td>\n",
       "      <td>2.010104</td>\n",
       "      <td>1.984075</td>\n",
       "      <td>1.919154</td>\n",
       "      <td>1.852621</td>\n",
       "      <td>1.800318</td>\n",
       "    </tr>\n",
       "    <tr>\n",
       "      <th>89</th>\n",
       "      <td>2.231779</td>\n",
       "      <td>2.470356</td>\n",
       "      <td>2.311200</td>\n",
       "      <td>2.427654</td>\n",
       "      <td>2.545722</td>\n",
       "      <td>2.702700</td>\n",
       "      <td>2.498541</td>\n",
       "      <td>2.751153</td>\n",
       "      <td>2.605184</td>\n",
       "      <td>2.676459</td>\n",
       "      <td>...</td>\n",
       "      <td>2.312487</td>\n",
       "      <td>2.287183</td>\n",
       "      <td>2.251311</td>\n",
       "      <td>2.204308</td>\n",
       "      <td>2.168579</td>\n",
       "      <td>2.114145</td>\n",
       "      <td>2.094217</td>\n",
       "      <td>2.034539</td>\n",
       "      <td>1.996547</td>\n",
       "      <td>1.955403</td>\n",
       "    </tr>\n",
       "  </tbody>\n",
       "</table>\n",
       "<p>5 rows × 54 columns</p>\n",
       "</div>"
      ],
      "text/plain": [
       "          0         1         2         3         4         5         6   \\\n",
       "85  2.138848  2.289073  2.305419  2.380080  2.535144  2.344447  2.418758   \n",
       "86  2.153632  2.323634  2.304278  2.381178  2.537928  2.427053  2.449624   \n",
       "87  2.168763  2.360030  2.296731  2.382738  2.534871  2.509685  2.466928   \n",
       "88  2.190194  2.405832  2.291354  2.394052  2.532024  2.598403  2.474158   \n",
       "89  2.231779  2.470356  2.311200  2.427654  2.545722  2.702700  2.498541   \n",
       "\n",
       "          7         8         9     ...           44        45        46  \\\n",
       "85  2.461829  2.474252  2.457755    ...     1.968235  1.921984  1.872204   \n",
       "86  2.500391  2.516939  2.493280    ...     2.062259  2.019188  1.929833   \n",
       "87  2.555252  2.546244  2.530321    ...     2.137959  2.125342  2.036090   \n",
       "88  2.636049  2.565568  2.583596    ...     2.232640  2.215182  2.145081   \n",
       "89  2.751153  2.605184  2.676459    ...     2.312487  2.287183  2.251311   \n",
       "\n",
       "          47        48        49        50        51        52        53  \n",
       "85  1.807926  1.717478  1.679363  1.618086  1.538966  1.466559  1.427380  \n",
       "86  1.904013  1.841743  1.790786  1.755287  1.667672  1.592310  1.551705  \n",
       "87  2.006061  1.939757  1.894430  1.860925  1.795628  1.731295  1.679045  \n",
       "88  2.117077  2.054308  2.010104  1.984075  1.919154  1.852621  1.800318  \n",
       "89  2.204308  2.168579  2.114145  2.094217  2.034539  1.996547  1.955403  \n",
       "\n",
       "[5 rows x 54 columns]"
      ]
     },
     "execution_count": 143,
     "metadata": {},
     "output_type": "execute_result"
    }
   ],
   "source": [
    "# used upto age 90\n",
    "total_df = pd.DataFrame(total).loc[:89]\n",
    "# total_df.set_index([pd.Index(years)])\n",
    "total_sum = np.sum(total_df)\n",
    "total_df.head()\n",
    "total_df.tail()"
   ]
  },
  {
   "cell_type": "code",
   "execution_count": 151,
   "metadata": {},
   "outputs": [],
   "source": [
    "u, s, vh = np.linalg.svd(total_df, full_matrices=True)\n",
    "\n",
    "# where U representing the age component, L(s) is the singular values and V(vh) representing the time component."
   ]
  },
  {
   "cell_type": "code",
   "execution_count": 156,
   "metadata": {},
   "outputs": [
    {
     "data": {
      "text/plain": [
       "((90,), (54,))"
      ]
     },
     "execution_count": 156,
     "metadata": {},
     "output_type": "execute_result"
    }
   ],
   "source": [
    "bHat = u[:,1]\n",
    "kHat = (s * vh)[:,1]\n",
    "bHat.shape, kHat.shape"
   ]
  },
  {
   "cell_type": "code",
   "execution_count": 145,
   "metadata": {},
   "outputs": [
    {
     "data": {
      "text/plain": [
       "((90, 90), (54,), (54, 54))"
      ]
     },
     "execution_count": 145,
     "metadata": {},
     "output_type": "execute_result"
    }
   ],
   "source": [
    "u.shape, s.shape, vh.shape"
   ]
  },
  {
   "cell_type": "code",
   "execution_count": null,
   "metadata": {},
   "outputs": [],
   "source": []
  }
 ],
 "metadata": {
  "kernelspec": {
   "display_name": "Python 3",
   "language": "python",
   "name": "python3"
  },
  "language_info": {
   "codemirror_mode": {
    "name": "ipython",
    "version": 3
   },
   "file_extension": ".py",
   "mimetype": "text/x-python",
   "name": "python",
   "nbconvert_exporter": "python",
   "pygments_lexer": "ipython3",
   "version": "3.7.1"
  }
 },
 "nbformat": 4,
 "nbformat_minor": 2
}
